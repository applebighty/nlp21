{
  "nbformat": 4,
  "nbformat_minor": 0,
  "metadata": {
    "colab": {
      "name": "HW_6",
      "provenance": [],
      "collapsed_sections": [],
      "toc_visible": true,
      "include_colab_link": true
    },
    "kernelspec": {
      "name": "python3",
      "display_name": "Python 3"
    },
    "language_info": {
      "name": "python"
    },
    "accelerator": "GPU"
  },
  "cells": [
    {
      "cell_type": "markdown",
      "metadata": {
        "id": "view-in-github",
        "colab_type": "text"
      },
      "source": [
        "<a href=\"https://colab.research.google.com/github/dbamman/nlp21/blob/main/HW6/HW_6.ipynb\" target=\"_parent\"><img src=\"https://colab.research.google.com/assets/colab-badge.svg\" alt=\"Open In Colab\"/></a>"
      ]
    },
    {
      "cell_type": "markdown",
      "metadata": {
        "id": "m5aFAKONGBpx"
      },
      "source": [
        "# **SETUP**"
      ]
    },
    {
      "cell_type": "code",
      "metadata": {
        "id": "ITgKc9QbFwhg"
      },
      "source": [
        "!pip install transformers"
      ],
      "execution_count": null,
      "outputs": []
    },
    {
      "cell_type": "code",
      "metadata": {
        "id": "Cr1gKbt5FGll"
      },
      "source": [
        "import json\n",
        "import torch\n",
        "import torch.nn as nn\n",
        "import transformers\n",
        "import random\n",
        "import numpy as np\n",
        "from tqdm import tqdm\n",
        "from transformers import BertTokenizer, BertModel\n",
        "\n",
        "\n",
        "#Sets random seeds for reproducibility\n",
        "seed=0\n",
        "np.random.seed(seed)\n",
        "torch.manual_seed(seed)\n",
        "torch.cuda.manual_seed(seed)\n",
        "torch.backends.cudnn.deterministic = True"
      ],
      "execution_count": 5,
      "outputs": []
    },
    {
      "cell_type": "code",
      "metadata": {
        "id": "IXwjsi_1Gckr"
      },
      "source": [
        "print(torch.__version__)\n",
        "print(transformers.__version__)"
      ],
      "execution_count": null,
      "outputs": []
    },
    {
      "cell_type": "code",
      "metadata": {
        "id": "AJzvqx-fUyDt"
      },
      "source": [
        "!wget https://raw.githubusercontent.com/dbamman/nlp21/main/HW6/train.txt\n",
        "!wget https://raw.githubusercontent.com/dbamman/nlp21/main/HW6/dev.txt"
      ],
      "execution_count": null,
      "outputs": []
    },
    {
      "cell_type": "markdown",
      "metadata": {
        "id": "D7YdnBp5GgRV"
      },
      "source": [
        "# **IMPORTANT**: GPU is not enabled by default\n",
        "\n",
        "You must switch runtime environments if your output of the next block of code has an error saying \"ValueError: Expected a cuda device, but got: cpu\"\n",
        "\n",
        "Go to Runtime > Change runtime type > Hardware accelerator > GPU"
      ]
    },
    {
      "cell_type": "code",
      "metadata": {
        "id": "Yelj2vEDGjDP"
      },
      "source": [
        "device = torch.device(\"cuda\" if torch.cuda.is_available() else \"cpu\")\n",
        "print(\"Running on {}\".format(device))"
      ],
      "execution_count": null,
      "outputs": []
    },
    {
      "cell_type": "markdown",
      "metadata": {
        "id": "860qYZU9yidO"
      },
      "source": [
        "# Tip: Indexing into `torch.Tensor`\n",
        "\n",
        "In this section, we will briefly guide you through some examples of indexing into a 2D and 3D tensor that will be useful for the homework that follows.\n",
        "\n",
        "\n",
        "A [`torch.Tensor`](https://pytorch.org/docs/stable/tensors.html) object is a multi-dimensional matrix that can be indexed in more than 2 dimensions. For example, you can create a 3D  tensor (of size 2 x 2 x 2) like this:  "
      ]
    },
    {
      "cell_type": "code",
      "metadata": {
        "colab": {
          "base_uri": "https://localhost:8080/"
        },
        "id": "pWbdF54UjkRV",
        "outputId": "a94362e1-6db7-479d-d4d1-b7e1a3965251"
      },
      "source": [
        "\n",
        "T_data = [[[1., 2.], [3., 4.]],\n",
        "          [[5., 6.], [7., 8.]]]\n",
        "T = torch.tensor(T_data)\n",
        "print(T.size())\n",
        "print(T)"
      ],
      "execution_count": null,
      "outputs": [
        {
          "output_type": "stream",
          "text": [
            "torch.Size([2, 2, 2])\n",
            "tensor([[[1., 2.],\n",
            "         [3., 4.]],\n",
            "\n",
            "        [[5., 6.],\n",
            "         [7., 8.]]])\n"
          ],
          "name": "stdout"
        }
      ]
    },
    {
      "cell_type": "markdown",
      "metadata": {
        "id": "QLWgNBq3j2Dd"
      },
      "source": [
        "You can index into this tensor and get a 2D matrix: \n"
      ]
    },
    {
      "cell_type": "code",
      "metadata": {
        "colab": {
          "base_uri": "https://localhost:8080/"
        },
        "id": "lw3kMHTDjzC4",
        "outputId": "f540b168-c1b3-4109-fe40-88742b3a7e3e"
      },
      "source": [
        "print(T[0].size())\n",
        "print(T[0]) "
      ],
      "execution_count": null,
      "outputs": [
        {
          "output_type": "stream",
          "text": [
            "torch.Size([2, 2])\n",
            "tensor([[1., 2.],\n",
            "        [3., 4.]])\n"
          ],
          "name": "stdout"
        }
      ]
    },
    {
      "cell_type": "markdown",
      "metadata": {
        "id": "eNWQ9372kdZC"
      },
      "source": [
        "Here's an example of a 4 x 3 matrix (2D tensor)"
      ]
    },
    {
      "cell_type": "code",
      "metadata": {
        "colab": {
          "base_uri": "https://localhost:8080/"
        },
        "id": "nwc87fYZyiKJ",
        "outputId": "828bfb0b-a7de-4e0d-b250-d2a2a150e4ec"
      },
      "source": [
        " mat = torch.tensor([[1,2,3],[4,5,6],[7,8,9],[10,11,12]])\n",
        " print(mat.size())\n",
        " mat"
      ],
      "execution_count": null,
      "outputs": [
        {
          "output_type": "stream",
          "text": [
            "torch.Size([4, 3])\n"
          ],
          "name": "stdout"
        },
        {
          "output_type": "execute_result",
          "data": {
            "text/plain": [
              "tensor([[ 1,  2,  3],\n",
              "        [ 4,  5,  6],\n",
              "        [ 7,  8,  9],\n",
              "        [10, 11, 12]])"
            ]
          },
          "metadata": {
            "tags": []
          },
          "execution_count": 8
        }
      ]
    },
    {
      "cell_type": "markdown",
      "metadata": {
        "id": "6u3sWEvvkjxJ"
      },
      "source": [
        "Here are a number of different ways that you can index into that tensor."
      ]
    },
    {
      "cell_type": "code",
      "metadata": {
        "colab": {
          "base_uri": "https://localhost:8080/"
        },
        "id": "3BbA1_JwkH7w",
        "outputId": "a1b3dc09-bc86-4816-edf2-4f62cd6a703e"
      },
      "source": [
        "#Case1: Select 1,5,9,10\n",
        "print(\"Case1: \" + str(mat[(0,1,2,3),(0,1,2,0)])) #() or [] both work\n",
        "\n",
        "#Case2: Select first row\n",
        "print(\"Case2: \" + str(mat[0,]))\n",
        "#also mat[0,]\n",
        "#also mat[0,:]\n",
        "\n",
        "#Case3: Select all entries of the second column\n",
        "print(\"Case3: \" + str(mat[:,1]))\n",
        "#also mat[torch.arange((mat.size(0))), 1]\n",
        "#also mat[(0,1,2,3), 1]\n",
        "\n",
        "#Case4: Select the first three rows of the third column\n",
        "print(\"Case4: \" + str(mat[(0,1,2), 2]))"
      ],
      "execution_count": null,
      "outputs": [
        {
          "output_type": "stream",
          "text": [
            "Case1: tensor([ 1,  5,  9, 10])\n",
            "Case2: tensor([1, 2, 3])\n",
            "Case3: tensor([ 2,  5,  8, 11])\n",
            "Case4: tensor([3, 6, 9])\n"
          ],
          "name": "stdout"
        }
      ]
    },
    {
      "cell_type": "markdown",
      "metadata": {
        "id": "HEbxv8Qrgo02"
      },
      "source": [
        "Now (most relevant to the homework), let's say we have a three-dimensional tensor (e.g., batch size x number of words in the sentence x 768 (the BERT dimension); each row in the first dimension is a sentence, the second dimension corresponds to a WordPiece token within a sentence, and the third dimension the BERT embedding.  Let's say that we want to index into different words for each sentence (for example, the predicate might be at WordPiece position #3 in the first sentence and position #1 in the second sentence). What we want to end up with is a 2 x 3 selection from that matrix (just pulling out those respective vectors that correspond to the BERT embeddings for the predicate position). Here's how we can do that for a sample tensor of size 2 x 4 x 3:"
      ]
    },
    {
      "cell_type": "code",
      "metadata": {
        "colab": {
          "base_uri": "https://localhost:8080/"
        },
        "id": "qmC7zrqJfPeX",
        "outputId": "ef9833a9-0842-4d72-c2fb-6012bdd7af04"
      },
      "source": [
        " mat = torch.tensor([ \n",
        "                     [\n",
        "                      [1,2,3],[4,5,6],[7,8,9],[10,11,12] \n",
        "                     ],\n",
        "                     [\n",
        "                      [13,14,15],[16,17,18],[19,20,21],[22,23,24]\n",
        "                     ]\n",
        "                     ])\n",
        " \n",
        "print(mat.size())\n",
        "print(mat)"
      ],
      "execution_count": null,
      "outputs": [
        {
          "output_type": "stream",
          "text": [
            "torch.Size([2, 4, 3])\n",
            "tensor([[[ 1,  2,  3],\n",
            "         [ 4,  5,  6],\n",
            "         [ 7,  8,  9],\n",
            "         [10, 11, 12]],\n",
            "\n",
            "        [[13, 14, 15],\n",
            "         [16, 17, 18],\n",
            "         [19, 20, 21],\n",
            "         [22, 23, 24]]])\n"
          ],
          "name": "stdout"
        }
      ]
    },
    {
      "cell_type": "code",
      "metadata": {
        "colab": {
          "base_uri": "https://localhost:8080/"
        },
        "id": "QlBnZetFgB6D",
        "outputId": "d865db1d-712f-431e-f4ce-c4a1c32eaae5"
      },
      "source": [
        "# e.g., the predicate WP index is #3 in the first sentence in the batch, and #1 in the second sentence\n",
        "indexes=[3,1]\n",
        "selected=mat[torch.arange(mat.size(0)),indexes]\n",
        "print(selected)\n",
        "print(selected.size())"
      ],
      "execution_count": null,
      "outputs": [
        {
          "output_type": "stream",
          "text": [
            "tensor([[10, 11, 12],\n",
            "        [16, 17, 18]])\n",
            "torch.Size([2, 3])\n"
          ],
          "name": "stdout"
        }
      ]
    },
    {
      "cell_type": "markdown",
      "metadata": {
        "id": "Onz1Ur1BrNHj"
      },
      "source": [
        "# Deliverable 1: Predict the semantic role of arguments for prose-argument pairs in a sentence. \n",
        "\n",
        "In this section, we will train a BERT-based classifier to assign proto-role labels (`ARG0`, `ARG1`, or `O`) to arguments in a given predicate-argument pair. \n",
        "\n",
        "The `BERTSRLClassifier` class is provided for you below, along with code to read in the data and train the model. This BERT-based classifier takes in the words of a sentence along with information about the beginning and end of an argument span and predicate to classify these predicate-specific arguments into `ARG0`, `ARG1`, or `O`(neither). \n",
        "\n",
        "See the writeup for a full description of the parts of the model you should implement.  To summarize, the `forward` function in the `BERTSRLClassifier` class concatenates the 786-dimensional BERT vectors that are indexed by:\n",
        "1. the start WordPiece token position of the argument span,\n",
        "2. the end WordPiece token position of the argument span,\n",
        "3. and the start WordPiece token position of the predicate\n",
        "\n",
        "and passes them through a linear transformation into the size of the 3-dimensional output space (for the three labels `ARG0`, `ARG1`, `O`).  Your deliverable is to complete the indicated section of the `forward` function in the `BERTSRLClassifier` class, where you will extract the BERT vectors corresponding to the positions (described above) from the final BERT layer before concatenating them and passing them through the linear transformation."
      ]
    },
    {
      "cell_type": "code",
      "metadata": {
        "id": "3ZotzM7cE2ft"
      },
      "source": [
        "max_toks=56\n",
        "tokenizer=BertTokenizer.from_pretrained('bert-base-cased', do_lower_case=False, do_basic_tokenize=False)\n",
        "\n",
        "labels={\"ARG0\":0, \"ARG1\":1, \"O\":2}\n",
        "\n",
        "\n",
        "#return start and end positions of WordPiece tokens\n",
        "def get_wp_position_for_token(words, index):\n",
        "\n",
        "\tcur=1\n",
        "\ttargetWP=None\n",
        "\n",
        "\tfor idx, word in enumerate(words):\n",
        "\t\ttarget=tokenizer.tokenize(word)\n",
        "\t\tif idx == index:\n",
        "\t\t\ttargetWP=target\n",
        "\t\t\treturn cur, cur+len(target)\n",
        "\t\tcur+=len(target)\n",
        "\t\n",
        "\n",
        "def read_data(filename, max_toks=max_toks):\n",
        "\n",
        "\tx=[]\n",
        "\ty=[]\n",
        "\tm=[]\n",
        "\n",
        "\tmax_num=5000\n",
        "\tidx=0\n",
        "\n",
        "\twith open(filename) as file:\n",
        "\t\tfor line in file:\n",
        "\t\t\tcols=line.rstrip().split(\"\\t\")\n",
        "\t\t\twords=cols[0].split(\" \")\n",
        "\t\t\tpredicate=int(cols[1])\n",
        "\t\t\targuments=json.loads(cols[2])\n",
        "\t\t\tcandidates=json.loads(cols[3])\n",
        "\t\t\t\n",
        "\t\t\tnonargs=[]\n",
        "\n",
        "\t\t\tfor cat, start, end in arguments:\n",
        "\t\t\t\tif cat == \"ARG0\" or cat == \"ARG1\":\n",
        "\t\t\t\t\tx.append(words)\n",
        "\t\t\t\t\ty.append(labels[cat])\n",
        "             #store position of WordPiece tokens for start of span, end of span, and start of predicate\n",
        "\t\t\t\t\tm.append((get_wp_position_for_token(words, start)[0], get_wp_position_for_token(words, end)[1], get_wp_position_for_token(words, predicate)[0]))\n",
        "\n",
        "\t\t\t\t\tidx+=1\n",
        "\n",
        "\t\t\t\telse:\n",
        "\t\t\t\t\tnonargs.append((cat, start, end))\n",
        "\n",
        "\n",
        "\t\t\t# select random non-ARG0 or ARG1\n",
        "\t\t\tcat, start, end=random.choice(nonargs)\n",
        "\t\t\tx.append(words)\n",
        "\t\t\ty.append(labels[\"O\"])\n",
        "             #store position of WordPiece tokens for start of span, end of span, and start of predicate) \n",
        "\t\t\tm.append((get_wp_position_for_token(words, start)[0], get_wp_position_for_token(words, end)[1], get_wp_position_for_token(words, predicate)[0]))\n",
        "\n",
        "\t\t\tidx+=1\n",
        "\n",
        "\t\t\tif idx >= max_num:\n",
        "\t\t\t\tbreak\n",
        "\n",
        "\treturn x, y, m"
      ],
      "execution_count": null,
      "outputs": []
    },
    {
      "cell_type": "code",
      "metadata": {
        "id": "ikU--QcmFF2_"
      },
      "source": [
        "class BERTSRLClassifier(nn.Module):\n",
        "\n",
        "    def __init__(self):\n",
        "        super().__init__()\n",
        "            \n",
        "        self.tokenizer = tokenizer\n",
        "        self.bert = BertModel.from_pretrained(\"bert-base-cased\")\n",
        "        self.num_labels = 3    \n",
        "        self.fc = nn.Linear(3*768, self.num_labels)\n",
        "\n",
        "    def get_batches(self, all_x, all_y, all_m, batch_size=32, max_toks=max_toks):\n",
        "        \"\"\"\n",
        "        Get batches for input x, y, and m, with data tokenized according to the\n",
        "        #BERT tokenizer (and limited to a maximum number of WordPiece tokens)\n",
        "        \"\"\"\n",
        "\n",
        "        batches_x=[]\n",
        "        batches_y=[]\n",
        "        batches_m=[]\n",
        "\n",
        "        #The input sentence starts with a [CLS] tag and is followed by a [SEP] tag\n",
        "        for i in range(0, len(all_x), batch_size):\n",
        "\n",
        "            current_batch=[]\n",
        "\n",
        "            xb=all_x[i:i+batch_size]\n",
        "\n",
        "            current_batch_input_ids=[]\n",
        "            current_batch_attention_mask=[]\n",
        "\n",
        "            for s, sent in enumerate(xb):\n",
        "\n",
        "                sent_wp_tokens=[self.tokenizer.convert_tokens_to_ids(\"[CLS]\")]\n",
        "                attention_mask=[1]\n",
        "\n",
        "                for word in sent:\n",
        "                    toks = self.tokenizer.tokenize(word)\n",
        "                    toks = self.tokenizer.convert_tokens_to_ids(toks)\n",
        "                    sent_wp_tokens.extend(toks)\n",
        "                    attention_mask.extend([1]*len(toks))\n",
        "                \n",
        "                sent_wp_tokens.append(self.tokenizer.convert_tokens_to_ids(\"[SEP]\"))\n",
        "                attention_mask.append(1)\n",
        "\n",
        "                current_batch_input_ids.append(sent_wp_tokens)\n",
        "                current_batch_attention_mask.append(attention_mask)\n",
        "\n",
        "            max_len = max([len(s) for s in current_batch_input_ids])\n",
        "\n",
        "            for j, sent in enumerate(current_batch_input_ids):\n",
        "                for k in range(len(current_batch_input_ids[j]), max_len):\n",
        "                    current_batch_input_ids[j].append(0)\n",
        "                    current_batch_attention_mask[j].append(0)\n",
        "\n",
        "            batch_y=all_y[i:i+batch_size]\n",
        "            batch_m=all_m[i:i+batch_size]\n",
        "\n",
        "            batches_x.append((torch.LongTensor(current_batch_input_ids).to(device), torch.LongTensor(current_batch_attention_mask).to(device)))\n",
        "            batches_y.append(torch.LongTensor(batch_y).to(device))\n",
        "            batches_m.append(torch.LongTensor(batch_m).to(device))\n",
        "                \n",
        "        return batches_x, batches_y, batches_m\n",
        "      \n",
        "\t\n",
        "\t\n",
        "\n",
        "    def forward(self, batch_x, batch_m): \n",
        "\n",
        "            bert_output = self.bert(input_ids=batch_x[0],\n",
        "                                                attention_mask=batch_x[1],\n",
        "                                                output_hidden_states=True, return_dict=True)\n",
        "\n",
        "            bert_hidden_states = bert_output['hidden_states']\n",
        "\n",
        "            out = bert_hidden_states[-1]\n",
        "\n",
        "            start_span_indexes=batch_m[:,0]\n",
        "            end_span_wp_indexes=batch_m[:,1]\n",
        "            predicate_wp_indexes=batch_m[:,2]\n",
        "\n",
        "            '''\n",
        "            Extract the representation of the WP token in the start and end WP position of each argument \n",
        "            and the start WP position of the predicate from the last layer output\n",
        "\n",
        "            Then, concatenate the vectors and pass them through a linear transformation\n",
        "            '''\n",
        "            # YOUR CODE STARTS HERE\n",
        "\n",
        "            ## YOUR CODE ENDS HERE\n",
        "\n",
        "            return out.squeeze()\n",
        "\n",
        "    def evaluate(self, batch_x, batch_y, batch_m):\n",
        "\t\t\t\n",
        "        self.eval()\n",
        "        corr = 0.\n",
        "        total = 0.\n",
        "\n",
        "        with torch.no_grad():\n",
        "\n",
        "                for x, y, m in zip(batch_x, batch_y, batch_m):\n",
        "                    y_preds = self.forward(x, m)\n",
        "                    for idx, y_pred in enumerate(y_preds):\n",
        "                        prediction=torch.argmax(y_pred)\n",
        "                        if prediction == y[idx]:\n",
        "                            corr += 1.\n",
        "                        total+=1                          \n",
        "        return corr/total\n"
      ],
      "execution_count": null,
      "outputs": []
    },
    {
      "cell_type": "code",
      "metadata": {
        "id": "JIMml1JypBpr"
      },
      "source": [
        "classifier=BERTSRLClassifier()\n",
        "classifier.to(device)\n",
        "\n",
        "trainData='train.txt'\n",
        "devData='dev.txt'\n",
        "\n",
        "x,y,m=read_data(trainData)\n",
        "train_x, train_y, train_m=classifier.get_batches(x,y,m)"
      ],
      "execution_count": null,
      "outputs": []
    },
    {
      "cell_type": "code",
      "metadata": {
        "id": "psDHgFfV_JYn"
      },
      "source": [
        "x,y,m=read_data(devData)\n",
        "dev_x, dev_y, dev_m=classifier.get_batches(x,y,m)\n",
        "\n",
        "\n",
        "optimizer = torch.optim.Adam(classifier.parameters(), lr=1e-5)\n",
        "cross_entropy=nn.CrossEntropyLoss()\n",
        "\n",
        "num_epochs=5\n",
        "\n",
        "#accuracy before training\n",
        "accuracy=classifier.evaluate(dev_x, dev_y, dev_m)\n",
        "print(\"Accuracy: %.3f\" % accuracy)\n",
        "\t\n",
        "for epoch in range(num_epochs):\n",
        "\tclassifier.train()\n",
        "\n",
        "\t# Train\n",
        "\tfor x, y, m in zip(train_x, train_y, train_m):\n",
        "\t\ty_pred = classifier.forward(x, m)\n",
        "\t\tloss = cross_entropy(y_pred.view(-1, classifier.num_labels), y.view(-1))\n",
        "\t\toptimizer.zero_grad()\n",
        "\t\tloss.backward()\n",
        "\t\toptimizer.step()\n",
        "\n",
        "\t# Evaluate\n",
        "\taccuracy=classifier.evaluate(dev_x, dev_y, dev_m)\n",
        "\tprint(\"Accuracy: %.3f\" % accuracy)\n",
        "\n",
        "\n"
      ],
      "execution_count": null,
      "outputs": []
    },
    {
      "cell_type": "markdown",
      "metadata": {
        "id": "trpMLEiCz8s2"
      },
      "source": [
        "# Deliverable 2: Find `ARG0` from a list of all non-terminal phrases in a parse tree \n",
        "\n",
        "Now, you will be given a sentence with all of its non-terminal phrases (candidates), where each candidate is given by `[NP category, start token position, end token position]`. For simplicity, the number of candidates for the given sentence doesn't exceed the system's batch size (32).\n",
        "\n",
        "\n",
        "In this section, identify the most likely `ARG0` among all the candidates, using our trained classifier, `BERTSRLClassifer`. In order to do this, you would generate an `ARG0` score for all the candidates using our classifier and select the candidate with the highest score (highest likelihood of being `ARG0`) as `ARG0`. The basic setup has been provided for you, using functions from the previous section**\\***. Your task is to finish the `predict_arg0` function so that it returns the **start and end position** of the `ARG0` predicted by your model. For example, if the sentence is \"I ate the cake\" (as given in the HW writeup), your function should return [0,0]. \n",
        "\n",
        "\\* *Note that we don't have y-labels for the list of candidates for this test case. In the provided code, we create a list of labels `test_y` and arbitrarily fill it with `O` because we need this list to run `get_batches`. The value in this list doesn't matter, as you won't be needing the output(`t_y`) to evaluate your result.*\n",
        "\n"
      ]
    },
    {
      "cell_type": "code",
      "metadata": {
        "id": "chqqe1Zh4Q4d"
      },
      "source": [
        "#This is the sentence you will be working with\n",
        "sent = \"Also , can animals remember images on TV like us , humans ?\"\n",
        "verb = 4 #predicate position\n",
        "candidate_list = '''[\n",
        "                    [\"RB\", 0, 0], \n",
        "                    [\"ADVP\", 0, 0],\n",
        "                    [\",\", 1, 1],\n",
        "                    [\"MD\", 2, 2], \n",
        "                    [\"NNS\", 3, 3], \n",
        "                    [\"NP\", 3, 3], \n",
        "                    [\"VB\", 4, 4], \n",
        "                    [\"NNS\", 5, 5], \n",
        "                    [\"NP\", 5, 5], \n",
        "                    [\"IN\", 6, 6], \n",
        "                    [\"NN\", 7, 7], \n",
        "                    [\"NP\", 7, 7], \n",
        "                    [\"PP\", 6, 7], \n",
        "                    [\"NP\", 5, 7], \n",
        "                    [\"IN\", 8, 8], \n",
        "                    [\"PRP\", 9, 9], \n",
        "                    [\"NP\", 9, 9], \n",
        "                    [\",\", 10, 10], \n",
        "                    [\"NNS\", 11, 11],\n",
        "                    [\"NP\", 11, 11],\n",
        "                    [\"NP\", 9, 11], \n",
        "                    [\"PP\", 8, 11],\n",
        "                    [\"VP\", 4, 11],\n",
        "                    [\".\", 12, 12], \n",
        "                    [\"SQ\", 0, 12], \n",
        "                    [\"TOP\", 0, 12]\n",
        "                    ] '''"
      ],
      "execution_count": 12,
      "outputs": []
    },
    {
      "cell_type": "code",
      "metadata": {
        "id": "hq69QeAd-S-A"
      },
      "source": [
        "#read in the sentence information\n",
        "#we don't have labels (y) for this task, but will create an arbitrary list in order to run get_batches()\n",
        "test_x = []\n",
        "test_m = []\n",
        "test_y = [] \n",
        "\n",
        "words = sent.split(\" \")\n",
        "predicate = int(verb)\n",
        "candidates = json.loads(candidate_list)\n",
        "\n",
        "\n",
        "for synt, start, end in candidates: \n",
        "  test_x.append(words)\n",
        "  test_y.append(labels[\"O\"]) #fill in with \"O\" (can be ARG0 or ARG1, doesn't matter)\n",
        "  #store position of WordPiece tokens for start of span, end of span, and start of predicate) \n",
        "  test_m.append((get_wp_position_for_token(words, start)[0], get_wp_position_for_token(words, end)[1], get_wp_position_for_token(words, predicate)[0]))"
      ],
      "execution_count": null,
      "outputs": []
    },
    {
      "cell_type": "code",
      "metadata": {
        "id": "F88nyQSdClRg"
      },
      "source": [
        "t_x, t_y, t_m = classifier.get_batches(test_x,test_y,test_m) "
      ],
      "execution_count": null,
      "outputs": []
    },
    {
      "cell_type": "code",
      "metadata": {
        "id": "JwGV1Nw6FZVG"
      },
      "source": [
        "def predict_arg0(batch_x, batch_m, cand_list):\n",
        "    \"\"\"\n",
        "    This function returns the start and end position of the predicted ARG0\n",
        "    \"\"\"\n",
        "    with torch.no_grad():    \n",
        "    #YOUR CODE STARTS HERE  \n",
        "\n",
        "\n",
        "    ##YOUR CODE ENDS HERE\n",
        "    \n",
        "    return positions"
      ],
      "execution_count": null,
      "outputs": []
    },
    {
      "cell_type": "code",
      "metadata": {
        "id": "-JiQHOrT8XcZ"
      },
      "source": [
        "#Run this cell to print your prediction\n",
        "#The printed output should look like [a, b]\n",
        "predict_arg0(t_x, t_m, candidates)"
      ],
      "execution_count": null,
      "outputs": []
    }
  ]
}